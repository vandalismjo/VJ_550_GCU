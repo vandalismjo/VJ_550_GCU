{
 "cells": [
  {
   "cell_type": "markdown",
   "metadata": {},
   "source": [
    "In this assignment, practical training issues are considered. There will be three basic issues addressed: the first describes things that need to be done prior to training a network, such as collecting and pre-processing data and selecting the network architecture; the second addresses network training itself; and the final considers post-training analysis. A case study is constructed for pattern recognition.\n",
    "\n",
    "Assume a produce dealer has a warehouse that stores a variety of fruits and vegetables. When fruit is brought to the warehouse, various types of fruit may be mixed. The dealer wants a machine that will sort the fruit according to type. There is a conveyor belt on which the fruit is loaded. This conveyor belt passes through a set of sensors, which measure three properties of the fruit: shape, texture, and weight. These sensors are somewhat primitive. The shape sensor will output a 1 if the fruit is approximately round and a -1 if it is more elliptical. The texture sensor will output a 1 if the surface of the fruit is smooth and a -1 if it is rough. The weight sensor will output a 1 if the fruit is more than one pound and a -1 if it is less than one pound. The three sensor outputs will then be input to a neural network. The purpose of the network is to decide which kind of fruit is on the conveyor, so that the fruit can be directed to the correct storage bin. To make the problem even simpler, assume that there are only two kinds of fruit on the conveyor belt: banana and pineapple.\n",
    "\n",
    "1. Select the network architecture and collect the pre-processing data.\n",
    "2. Train the network.\n",
    "3. Perform post-training and analysis.\n",
    "4. Test the operation of your network by applying several different input patterns. Discuss the advantages and disadvantages of each input pattern.\n",
    "5. How would you automate the training process using Python and libraries?\n",
    "\n",
    "APA style is not required, but solid academic writing is expected. \n",
    "\n",
    "This assignment uses a rubric. Please review the rubric prior to beginning the assignment to become familiar with the expectations for successful completion. \n",
    "\n",
    "Submit a Microsoft Word document with the source code, as directed by your instructor.\n",
    "\n",
    "Zip your document and submit to LoudCloud or GitHub, as directed by your instructor. Be sure to include the GitHub link in your Word document if submitting via GitHub.\n",
    "\n",
    "You are required to submit this assignment to LopesWrite. Refer to the LopesWrite Technical Support articles for assistance. "
   ]
  },
  {
   "cell_type": "markdown",
   "metadata": {},
   "source": [
    "### Initialize Data"
   ]
  },
  {
   "cell_type": "code",
   "execution_count": 1,
   "metadata": {},
   "outputs": [],
   "source": [
    "import pandas as pd\n",
    "import numpy as np\n",
    "import matplotlib.pyplot as plt\n",
    "%matplotlib inline"
   ]
  },
  {
   "cell_type": "code",
   "execution_count": 2,
   "metadata": {},
   "outputs": [],
   "source": [
    "# I know the assignment said we could just run 2 fruit but I ran with more to see how that would work\n",
    "fruit_data = {\n",
    "    \"Banana\": [1, 1, 1, 1, -1, 1, -1, -1, -1, 1, 1, 1, 1, 1, -1, 1, -1, -1, -1, -1, 1, -1, -1, -1, -1],\n",
    "    \"Pineapple\": [1, -1, -1, -1, 1, -1, 1, -1, 1, -1, -1, -1, 1, -1, -1, -1, -1, 1, -1, -1, -1, -1, 1, -1, -1],\n",
    "    \"Apple\": [1, 1, 1, 1, 1, -1, -1, 1, -1, -1, -1, -1, 1, -1, -1, -1, -1, 1, -1, -1, -1, -1, 1, -1, -1],\n",
    "    \"Grapes\": [1, -1, -1, -1, 1, 1, -1, -1, -1, 1, 1, 1, 1, 1, 1, 1, -1, -1, -1, 1, 1, -1, -1, -1, 1],\n",
    "    \"Watermelon\": [1, 1, 1, 1, 1, 1, -1, -1, -1, 1, 1, -1, -1, -1, 1, 1, -1, -1, -1, 1, 1, 1, 1, 1, 1],\n",
    "    \"Mango\": [1, -1, -1, -1, 1, 1, 1, -1, -1, 1, 1, -1, 1, -1, 1, 1, -1, -1, 1, 1, 1, -1, -1, -1, 1]\n",
    "}"
   ]
  },
  {
   "cell_type": "markdown",
   "metadata": {},
   "source": [
    "### Pre-Process Data\n",
    "#### Data Parameters\n",
    "Hopfield networks can hold about 0.138 * n_neurons for better denoising\n",
    "0.138 * n_neurons = 0.138 * 25 = 3.45 ~ 3"
   ]
  },
  {
   "cell_type": "code",
   "execution_count": 3,
   "metadata": {},
   "outputs": [],
   "source": [
    "# set training parameters\n",
    "n_train = 3\n",
    "# len of test set\n",
    "n_test = 100\n",
    "# Amount of distortion (0 < distort < 1)\n",
    "distort = 0.1\n",
    "# No of neurons\n",
    "n_neurons = 25"
   ]
  },
  {
   "cell_type": "code",
   "execution_count": 4,
   "metadata": {},
   "outputs": [],
   "source": [
    "train_data = [np.array(d) for d in fruit_data.values()][:n_train]"
   ]
  },
  {
   "cell_type": "code",
   "execution_count": 5,
   "metadata": {},
   "outputs": [],
   "source": [
    "test_data = []\n",
    "for d in range(n_test):\n",
    "    r_i = np.random.randint(0, n_train)\n",
    "    base_pattern = np.array(train_data[r_i])\n",
    "    noise = 1 * (np.random.random(base_pattern.shape) > distort)\n",
    "    np.place(noise, noise == 0, -1)\n",
    "    noisy_pattern = np.multiply(base_pattern, noise)\n",
    "    test_data.append((base_pattern, noisy_pattern))"
   ]
  },
  {
   "cell_type": "markdown",
   "metadata": {},
   "source": [
    "### Neural Network\n",
    "Function to train the network using Hebbian learning rule"
   ]
  },
  {
   "cell_type": "code",
   "execution_count": 6,
   "metadata": {},
   "outputs": [],
   "source": [
    "def train(neu, training_data):\n",
    "    w = np.zeros([neu, neu])\n",
    "    for data in training_data:\n",
    "        w += np.outer(data, data)\n",
    "    for diag in range(neu):\n",
    "        w[diag][diag] = 0\n",
    "    return w"
   ]
  },
  {
   "cell_type": "code",
   "execution_count": 7,
   "metadata": {},
   "outputs": [],
   "source": [
    "def test(weights, testing_data):\n",
    "    success = 0.0\n",
    "\n",
    "    output_data = []\n",
    "\n",
    "    for data in testing_data:\n",
    "        true_data = data[0]\n",
    "        noisy_data = data[1]\n",
    "        predicted_data = retrieve_pattern(weights, noisy_data)\n",
    "        if np.array_equal(true_data, predicted_data):\n",
    "            success += 1.0\n",
    "        output_data.append([true_data, noisy_data, predicted_data])\n",
    "\n",
    "    return (success / len(testing_data)), output_data"
   ]
  },
  {
   "cell_type": "code",
   "execution_count": 8,
   "metadata": {},
   "outputs": [],
   "source": [
    "def retrieve_pattern(weights, data, steps=10):\n",
    "    res = np.array(data)\n",
    "\n",
    "    for _ in range(steps):\n",
    "        for i in range(len(res)):\n",
    "            raw_v = np.dot(weights[i], res)\n",
    "            if raw_v > 0:\n",
    "                res[i] = 1\n",
    "            else:\n",
    "                res[i] = -1\n",
    "    return res"
   ]
  },
  {
   "cell_type": "code",
   "execution_count": 9,
   "metadata": {},
   "outputs": [],
   "source": [
    "# Train\n",
    "W = train(n_neurons, train_data)"
   ]
  },
  {
   "cell_type": "code",
   "execution_count": 10,
   "metadata": {},
   "outputs": [],
   "source": [
    "# Test\n",
    "accuracy, out_data = test(W, test_data)"
   ]
  },
  {
   "cell_type": "code",
   "execution_count": 11,
   "metadata": {},
   "outputs": [
    {
     "name": "stdout",
     "output_type": "stream",
     "text": [
      "Accuracy of the network is 98.000000\n"
     ]
    }
   ],
   "source": [
    "print(\"Accuracy of the network is %f\" % (accuracy * 100))"
   ]
  },
  {
   "cell_type": "code",
   "execution_count": 12,
   "metadata": {
    "scrolled": true
   },
   "outputs": [
    {
     "name": "stdout",
     "output_type": "stream",
     "text": [
      "0 Apple\n",
      "1 Banana\n",
      "2 Pineapple\n",
      "3 Pineapple\n",
      "4 Banana\n",
      "5 Apple\n",
      "6 Banana\n",
      "7 Apple\n",
      "8 Pineapple\n",
      "9 Apple\n",
      "10 Apple\n",
      "11 Pineapple\n",
      "12 Apple\n",
      "13 Pineapple\n",
      "14 Pineapple\n",
      "15 Apple\n",
      "16 Apple\n",
      "17 Pineapple\n",
      "18 Apple\n",
      "19 Apple\n",
      "20 Banana\n",
      "21 Apple\n",
      "22 Apple\n",
      "23 Pineapple\n",
      "24 Banana\n",
      "25 Banana\n",
      "26 Banana\n",
      "27 Banana\n",
      "28 Apple\n",
      "29 Apple\n",
      "30 Banana\n",
      "31 Pineapple\n",
      "32 Pineapple\n",
      "33 Banana\n",
      "34 Apple\n",
      "36 Apple\n",
      "37 Banana\n",
      "38 Apple\n",
      "39 Apple\n",
      "40 Banana\n",
      "41 Pineapple\n",
      "42 Banana\n",
      "43 Apple\n",
      "44 Pineapple\n",
      "45 Apple\n",
      "46 Banana\n",
      "47 Banana\n",
      "48 Banana\n",
      "49 Banana\n",
      "50 Apple\n",
      "51 Apple\n",
      "52 Pineapple\n",
      "53 Pineapple\n",
      "54 Banana\n",
      "55 Banana\n",
      "56 Apple\n",
      "57 Pineapple\n",
      "58 Apple\n",
      "59 Apple\n",
      "60 Pineapple\n",
      "61 Apple\n",
      "62 Pineapple\n",
      "63 Apple\n",
      "64 Apple\n",
      "65 Apple\n",
      "66 Apple\n",
      "67 Pineapple\n",
      "68 Pineapple\n",
      "69 Pineapple\n",
      "70 Apple\n",
      "71 Apple\n",
      "72 Pineapple\n",
      "73 Banana\n",
      "74 Pineapple\n",
      "75 Pineapple\n",
      "76 Apple\n",
      "77 Pineapple\n",
      "78 Pineapple\n",
      "79 Apple\n",
      "80 Pineapple\n",
      "81 Banana\n",
      "82 Apple\n",
      "83 Pineapple\n",
      "84 Apple\n",
      "85 Banana\n",
      "86 Banana\n",
      "87 Pineapple\n",
      "88 Banana\n",
      "89 Pineapple\n",
      "90 Pineapple\n",
      "91 Pineapple\n",
      "92 Banana\n",
      "93 Banana\n",
      "94 Banana\n",
      "95 Apple\n",
      "96 Apple\n",
      "97 Apple\n",
      "98 Pineapple\n",
      "99 Banana\n"
     ]
    }
   ],
   "source": [
    "# print output classifications of test data\n",
    "for v in range(len(out_data)):\n",
    "    for j in range(len(list(fruit_data.keys()))):\n",
    "        if all(out_data[v][2] == list(fruit_data.values())[j]):\n",
    "            print(v, list(fruit_data.keys())[j])"
   ]
  },
  {
   "cell_type": "markdown",
   "metadata": {},
   "source": [
    "All the nodes in a Hopfield network are both inputs and outputs, and they are fully interconnected. That is, each node is an input to every other node in the network. You can think of the links from each node to itself as being a link with a weight of 0. Inputs and outputs are binary. This technique of discrete Hopfield networks are mostly used in image recognition, with images that contain noise. In the scenario given from the assignment details, we run a similar recognition but with different fruit based on the shape, texture, and weight. These inputs are initialized as 1s and -1s. Testing data is generated as well and the classification is made and accuracy calculated. \n",
    "\n",
    "\n",
    "Some of the limitations of the Hopfield network include:\n",
    "\n",
    "1. Memory Capacity : The number of training patterns should be less than or equal to number of neurons which means memorizing the capacity of the Hopfield network is limitied. Catastrophic forgetting occurs when there are more numbers of patterns.\n",
    "2. Discrepancy limitation: The new pattern to be recognized as one of the patterns should not differ from any training pattern by more than about 25%\n",
    "3. Orathogonality between patterns: The more orthigonal the training patterns, the better the recognition\n",
    "4. Spurious states of attraction: Sometimes the network learns some pateerns called spurious states, which are not present in the set of training patterns\n",
    "5. Weight symmetry: The weight matrix must be symmetrical in order for the network to reach an equilibrium. The symmetrical synaptic weights are not at all bilogically plausible, but they are a useful limitiation here(Limitations to using The Hopfield Network, n.d.).\n",
    "\n",
    "\n",
    "References:\n",
    "\n",
    "Limitations to using The Hopfield Network(n.d.). Retrieved from https://www.skedsoft.com/books/neural-network-fuzzy-systems/limitations-to-using-the-hopfield-network"
   ]
  },
  {
   "cell_type": "code",
   "execution_count": null,
   "metadata": {},
   "outputs": [],
   "source": []
  }
 ],
 "metadata": {
  "kernelspec": {
   "display_name": "Python 3",
   "language": "python",
   "name": "python3"
  },
  "language_info": {
   "codemirror_mode": {
    "name": "ipython",
    "version": 3
   },
   "file_extension": ".py",
   "mimetype": "text/x-python",
   "name": "python",
   "nbconvert_exporter": "python",
   "pygments_lexer": "ipython3",
   "version": "3.7.6"
  }
 },
 "nbformat": 4,
 "nbformat_minor": 4
}
