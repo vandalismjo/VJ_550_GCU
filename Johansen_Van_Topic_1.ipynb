{
 "cells": [
  {
   "cell_type": "markdown",
   "metadata": {},
   "source": [
    "In this project students are going to install Python and the AI toolchain. There are many options to run a Python sample code and consequently test the environment. Any Python integrated development environment (IDE), whether it is Jupyter Notebooks, Spyder, a simple text editor, or terminal, is allowed. There is also a simpler solution—the use of Collaboratory (or Google Colab).\n",
    "\n",
    "Collaboratory is a free and open source environment for Python development that requires no setup and runs entirely on the cloud. It contains all the preinstalled packages required for the class and is ready to run.\n",
    "\n",
    "In this project, the Thompson Sampling model is used to test the installation. Using a Python IDE, copy and paste the code and execute the sample code.\n",
    "\n",
    "In 750–1,000 words, describe your experience. Consider the following:\n",
    "\n",
    "1. What is the issue/problem encountered?\n",
    "2. What environment have you used? How?\n",
    "3. What challenges could there be during installation? Provide examples and details.\n",
    "4. Include a screenshot of the IDE and the output of the run.\n",
    "\n",
    "The Python code necessary for this assignment is available within the zip file \"DSC-550-Python-Project-Files,\" located in the Course Materials.\n",
    "\n",
    "APA style is not required, but solid academic writing is expected. \n",
    "\n",
    "This assignment uses a rubric. Please review the rubric prior to beginning the assignment to become familiar with the expectations for successful completion.\n",
    "\n",
    "You are required to submit this assignment to LopesWrite. Refer to the LopesWrite Technical Support articles for assistance."
   ]
  },
  {
   "cell_type": "code",
   "execution_count": null,
   "metadata": {},
   "outputs": [],
   "source": [
    "#MIT License\n",
    "\n",
    "#Copyright (c) 2019 Packt\n",
    "\n",
    "#Permission is hereby granted, free of charge, to any person obtaining a copy\n",
    "#of this software and associated documentation files (the \"Software\"), to deal\n",
    "#in the Software without restriction, including without limitation the rights\n",
    "#to use, copy, modify, merge, publish, distribute, sublicense, and/or sell\n",
    "#copies of the Software, and to permit persons to whom the Software is\n",
    "#furnished to do so, subject to the following conditions:\n",
    "\n",
    "#The above copyright notice and this permission notice shall be included in all\n",
    "#copies or substantial portions of the Software.\n",
    "\n",
    "#THE SOFTWARE IS PROVIDED \"AS IS\", WITHOUT WARRANTY OF ANY KIND, EXPRESS OR\n",
    "#IMPLIED, INCLUDING BUT NOT LIMITED TO THE WARRANTIES OF MERCHANTABILITY,\n",
    "#FITNESS FOR A PARTICULAR PURPOSE AND NONINFRINGEMENT. IN NO EVENT SHALL THE\n",
    "#AUTHORS OR COPYRIGHT HOLDERS BE LIABLE FOR ANY CLAIM, DAMAGES OR OTHER\n",
    "#LIABILITY, WHETHER IN AN ACTION OF CONTRACT, TORT OR OTHERWISE, ARISING FROM,\n",
    "#OUT OF OR IN CONNECTION WITH THE SOFTWARE OR THE USE OR OTHER DEALINGS IN THE\n",
    "#SOFTWARE."
   ]
  },
  {
   "cell_type": "code",
   "execution_count": 1,
   "metadata": {},
   "outputs": [],
   "source": [
    "# AI for Sales & Advertizing - Sell like the Wolf of AI Street\n",
    "\n",
    "# Importing the libraries\n",
    "import numpy as np\n",
    "import matplotlib.pyplot as plt\n",
    "import random\n",
    "\n",
    "# Setting the parameters\n",
    "N = 10000\n",
    "d = 9"
   ]
  },
  {
   "cell_type": "code",
   "execution_count": 2,
   "metadata": {},
   "outputs": [],
   "source": [
    "# Building the environment inside a simulation\n",
    "conversion_rates = [0.05,0.13,0.09,0.16,0.11,0.04,0.20,0.08,0.01]\n",
    "X = np.array(np.zeros([N,d]))\n",
    "for i in range(N):\n",
    "    for j in range(d):\n",
    "        if np.random.rand() <= conversion_rates[j]:\n",
    "            X[i,j] = 1"
   ]
  },
  {
   "cell_type": "code",
   "execution_count": 3,
   "metadata": {},
   "outputs": [],
   "source": [
    "# Implementing Random Selection and Thompson Sampling\n",
    "strategies_selected_rs = []\n",
    "strategies_selected_ts = []\n",
    "total_reward_rs = 0\n",
    "total_reward_ts = 0\n",
    "numbers_of_rewards_1 = [0] * d\n",
    "numbers_of_rewards_0 = [0] * d\n",
    "for n in range(0, N):\n",
    "    # Random Selection\n",
    "    strategy_rs = random.randrange(d)\n",
    "    strategies_selected_rs.append(strategy_rs)\n",
    "    reward_rs = X[n, strategy_rs]\n",
    "    total_reward_rs = total_reward_rs + reward_rs\n",
    "    # Thompson Sampling\n",
    "    strategy_ts = 0\n",
    "    max_random = 0\n",
    "    for i in range(0, d):\n",
    "        random_beta = random.betavariate(numbers_of_rewards_1[i] + 1, numbers_of_rewards_0[i] + 1)\n",
    "        if random_beta > max_random:\n",
    "            max_random = random_beta\n",
    "            strategy_ts = i\n",
    "    reward_ts = X[n, strategy_ts]\n",
    "    if reward_ts == 1:\n",
    "        numbers_of_rewards_1[strategy_ts] = numbers_of_rewards_1[strategy_ts] + 1\n",
    "    else:\n",
    "        numbers_of_rewards_0[strategy_ts] = numbers_of_rewards_0[strategy_ts] + 1\n",
    "    strategies_selected_ts.append(strategy_ts)\n",
    "    total_reward_ts = total_reward_ts + reward_ts"
   ]
  },
  {
   "cell_type": "code",
   "execution_count": 4,
   "metadata": {},
   "outputs": [
    {
     "name": "stdout",
     "output_type": "stream",
     "text": [
      "Relative Return: 97 %\n"
     ]
    }
   ],
   "source": [
    "# Computing the Relative Return\n",
    "relative_return = (total_reward_ts - total_reward_rs) / total_reward_rs * 100\n",
    "print(\"Relative Return: {:.0f} %\".format(relative_return))"
   ]
  },
  {
   "cell_type": "code",
   "execution_count": 5,
   "metadata": {},
   "outputs": [
    {
     "data": {
      "image/png": "[encoded data removed]",
      "text/plain": [
       "<Figure size 432x288 with 1 Axes>"
      ]
     },
     "metadata": {
      "needs_background": "light"
     },
     "output_type": "display_data"
    }
   ],
   "source": [
    "# Plotting the Histogram of Selections\n",
    "plt.hist(strategies_selected_ts)\n",
    "plt.title('Histogram of Selections')\n",
    "plt.xlabel('Strategy')\n",
    "plt.ylabel('Number of times the strategy was selected')\n",
    "plt.show()"
   ]
  },
  {
   "cell_type": "code",
   "execution_count": null,
   "metadata": {},
   "outputs": [],
   "source": []
  }
 ],
 "metadata": {
  "kernelspec": {
   "display_name": "Python 3",
   "language": "python",
   "name": "python3"
  },
  "language_info": {
   "codemirror_mode": {
    "name": "ipython",
    "version": 3
   },
   "file_extension": ".py",
   "mimetype": "text/x-python",
   "name": "python",
   "nbconvert_exporter": "python",
   "pygments_lexer": "ipython3",
   "version": "3.7.6"
  }
 },
 "nbformat": 4,
 "nbformat_minor": 4
}
