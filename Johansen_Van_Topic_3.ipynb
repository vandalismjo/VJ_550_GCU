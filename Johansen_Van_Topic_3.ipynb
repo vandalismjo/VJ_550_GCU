{
 "cells": [
  {
   "cell_type": "markdown",
   "metadata": {},
   "source": [
    "## Assignment:\n",
    "Access \"DSC-550-RS-Project3\" for successful completion of this assignment. \n",
    "\n",
    "APA style is not required, but solid academic writing is expected. \n",
    "\n",
    "This assignment uses a rubric. Please review the rubric prior to beginning the assignment to become familiar with the expectations for successful completion. \n",
    "\n",
    "Submit a Microsoft Word document showing the mathematical outputs, with source code, and screenshots of the plots.\n",
    "\n",
    "Zip your document, including the source code, and submit to LoudCloud, as directed by your instructor.\n",
    "\n",
    "## Response:"
   ]
  },
  {
   "cell_type": "markdown",
   "metadata": {},
   "source": [
    "Similar to the example given in the assignment, the following code will create a multilayer perceptron utilizing weights and biases to generate an output given the input p. Part i - vi will be noted below and the saturating linear layer will be represented via the sigmoid activation function and the linear layer will be represented via the relu activation function. The output is also plotted as suggested in the assignment."
   ]
  },
  {
   "cell_type": "code",
   "execution_count": 1,
   "metadata": {},
   "outputs": [
    {
     "name": "stdout",
     "output_type": "stream",
     "text": [
      "Train dimension:\n",
      "(50000, 784)\n",
      "Test dimension:\n",
      "(10000, 784)\n",
      "Train labels dimension:\n",
      "(50000, 10)\n",
      "Test labels dimension:\n",
      "(10000, 10)\n"
     ]
    }
   ],
   "source": [
    "# Load Packages + Libraries\n",
    "\n",
    "import keras\n",
    "from sklearn.preprocessing import LabelBinarizer\n",
    "import matplotlib.pyplot as plt\n",
    "%matplotlib inline\n",
    "import numpy as np\n",
    "import tensorflow as tf\n",
    "from sklearn.metrics import roc_auc_score, accuracy_score\n",
    "import tensorflow.compat.v1 as tf\n",
    "s = tf.InteractiveSession()\n",
    "\n",
    "def load_dataset(flatten=False):\n",
    "    (X_train, y_train), (X_test, y_test) = keras.datasets.mnist.load_data()\n",
    "    # normalize x\n",
    "    X_train = X_train.astype(float) / 255.\n",
    "    X_test = X_test.astype(float) / 255.\n",
    "    X_train, X_val = X_train[:-10000], X_train[-10000:]\n",
    "    y_train, y_val = y_train[:-10000], y_train[-10000:]\n",
    "    if flatten:\n",
    "        X_train = X_train.reshape([X_train.shape[0], -1])\n",
    "        X_val = X_val.reshape([X_val.shape[0], -1])\n",
    "        X_test = X_test.reshape([X_test.shape[0], -1])\n",
    "    return X_train, y_train, X_val, y_val, X_test, y_test\n",
    "X_train, y_train, X_val, y_val, X_test, y_test = load_dataset()\n",
    "\n",
    "\n",
    "# Changing dimension of input images from N*28*28 to  N*784\n",
    "\n",
    "X_train = X_train.reshape((X_train.shape[0],X_train.shape[1]*X_train.shape[2]))\n",
    "X_test = X_test.reshape((X_test.shape[0],X_test.shape[1]*X_test.shape[2]))\n",
    "print('Train dimension:');print(X_train.shape)\n",
    "print('Test dimension:');print(X_test.shape)\n",
    "\n",
    "# Changing labels to one-hot encoded vector\n",
    "\n",
    "lb = LabelBinarizer()\n",
    "y_train = lb.fit_transform(y_train)\n",
    "y_test = lb.transform(y_test)\n",
    "print('Train labels dimension:');print(y_train.shape)\n",
    "print('Test labels dimension:');print(y_test.shape)"
   ]
  },
  {
   "cell_type": "code",
   "execution_count": 2,
   "metadata": {},
   "outputs": [],
   "source": [
    "# Defining various initialization parameters for 784-512-256-10 MLP model\n",
    "\n",
    "num_classes = y_train.shape[1]\n",
    "num_features = X_train.shape[1]\n",
    "num_output = y_train.shape[1]\n",
    "num_layers_0 = 512\n",
    "num_layers_1 = 256\n",
    "starter_learning_rate = 0.001\n",
    "regularizer_rate = 0.1"
   ]
  },
  {
   "cell_type": "code",
   "execution_count": 3,
   "metadata": {},
   "outputs": [],
   "source": [
    "# Placeholders for the input data\n",
    "\n",
    "tf.compat.v1.disable_eager_execution()\n",
    "input_X = tf.placeholder('float32', shape=(None,num_features), name=\"input_X\")\n",
    "input_y = tf.placeholder('float32', shape =(None,num_classes), name='input_Y')\n",
    "keep_prob = tf.placeholder(tf.float32)"
   ]
  },
  {
   "cell_type": "code",
   "execution_count": 4,
   "metadata": {},
   "outputs": [],
   "source": [
    "# Weights initialized by random normal function with std_dev = 1/sqrt(number of input features)\n",
    "## these weights and biases are assigned to each feature in the given layers -- \n",
    "## w11 or w12 / b11 or b12 (from the assignment).\n",
    "\n",
    "weights_0 = tf.Variable(tf.random.normal([num_features,num_layers_0], stddev=(1/tf.sqrt(float(num_features)))))\n",
    "bias_0 = tf.Variable(tf.random.normal([num_layers_0]))\n",
    "weights_1 = tf.Variable(tf.random.normal([num_layers_0,num_layers_1], stddev=(1/tf.sqrt(float(num_layers_0)))))\n",
    "bias_1 = tf.Variable(tf.random.normal([num_layers_1]))\n",
    "weights_2 = tf.Variable(tf.random.normal([num_layers_1,num_output], stddev=(1/tf.sqrt(float(num_layers_1)))))\n",
    "bias_2 = tf.Variable(tf.random.normal([num_output]))"
   ]
  },
  {
   "cell_type": "code",
   "execution_count": 5,
   "metadata": {},
   "outputs": [
    {
     "name": "stdout",
     "output_type": "stream",
     "text": [
      "WARNING:tensorflow:From C:\\Users\\zzenz\\anaconda3\\lib\\site-packages\\tensorflow\\python\\util\\dispatch.py:201: calling dropout (from tensorflow.python.ops.nn_ops) with keep_prob is deprecated and will be removed in a future version.\n",
      "Instructions for updating:\n",
      "Please use `rate` instead of `keep_prob`. Rate should be set to `rate = 1 - keep_prob`.\n"
     ]
    }
   ],
   "source": [
    "# Initializing weigths and biases\n",
    "## Here is where the layers are generated and the activation functions are \n",
    "## called - Sigmoid and ReLu (saturating linear and pure linear)\n",
    "## each one of their outputs will answer the questions part i - v\n",
    "\n",
    "hidden_output_0 = tf.nn.relu(tf.matmul(input_X,weights_0)+bias_0)\n",
    "hidden_output_0_0 = tf.nn.dropout(hidden_output_0, keep_prob)\n",
    "hidden_output_1 = tf.nn.relu(tf.matmul(hidden_output_0_0,weights_1)+bias_1)\n",
    "hidden_output_1_1 = tf.nn.dropout(hidden_output_1, keep_prob)\n",
    "predicted_y = tf.sigmoid(tf.matmul(hidden_output_1_1,weights_2) + bias_2)"
   ]
  },
  {
   "cell_type": "code",
   "execution_count": 6,
   "metadata": {},
   "outputs": [],
   "source": [
    "# Defining the loss function\n",
    "\n",
    "loss = tf.reduce_mean(tf.nn.softmax_cross_entropy_with_logits_v2(logits=predicted_y,labels=input_y)) \\\n",
    "        + regularizer_rate*(tf.reduce_sum(tf.square(bias_0)) + tf.reduce_sum(tf.square(bias_1)))"
   ]
  },
  {
   "cell_type": "code",
   "execution_count": 7,
   "metadata": {},
   "outputs": [],
   "source": [
    "# Variable learning rate\n",
    "\n",
    "learning_rate = tf.train.exponential_decay(starter_learning_rate, 0, 5, 0.85, staircase=True)\n",
    "# Adam optimzer for finding the right weight\n",
    "\n",
    "optimizer = tf.train.AdamOptimizer(learning_rate).minimize(loss,var_list=[weights_0,weights_1,weights_2,\n",
    "                                                                         bias_0,bias_1,bias_2])"
   ]
  },
  {
   "cell_type": "code",
   "execution_count": 8,
   "metadata": {},
   "outputs": [],
   "source": [
    "# Metrics definition\n",
    "\n",
    "correct_prediction = tf.equal(tf.argmax(y_train,1), tf.argmax(predicted_y,1))\n",
    "accuracy = tf.reduce_mean(tf.cast(correct_prediction, tf.float32))"
   ]
  },
  {
   "cell_type": "code",
   "execution_count": 9,
   "metadata": {},
   "outputs": [
    {
     "name": "stdout",
     "output_type": "stream",
     "text": [
      "Epoch:0, Train loss: 40.36 Train acc: 0.935, Test acc:0.936\n",
      "Epoch:1, Train loss: 22.47 Train acc: 0.955, Test acc:0.954\n",
      "Epoch:2, Train loss: 12.85 Train acc: 0.966, Test acc:0.963\n",
      "Epoch:3, Train loss: 7.63 Train acc: 0.972, Test acc:0.966\n",
      "Epoch:4, Train loss: 4.79 Train acc: 0.978, Test acc:0.972\n",
      "Epoch:5, Train loss: 3.24 Train acc: 0.979, Test acc:0.972\n",
      "Epoch:6, Train loss: 2.39 Train acc: 0.982, Test acc:0.976\n",
      "Epoch:7, Train loss: 1.93 Train acc: 0.983, Test acc:0.976\n",
      "Epoch:8, Train loss: 1.68 Train acc: 0.986, Test acc:0.977\n",
      "Epoch:9, Train loss: 1.56 Train acc: 0.987, Test acc:0.979\n",
      "Epoch:10, Train loss: 1.50 Train acc: 0.988, Test acc:0.979\n",
      "Epoch:11, Train loss: 1.48 Train acc: 0.989, Test acc:0.977\n",
      "Epoch:12, Train loss: 1.47 Train acc: 0.989, Test acc:0.979\n",
      "Epoch:13, Train loss: 1.47 Train acc: 0.991, Test acc:0.979\n"
     ]
    }
   ],
   "source": [
    "# Training parameters\n",
    "## below the outputs for the hidden layers will be generated parts i - v\n",
    "## the final output (predictions) is the final response part vi - *a2\n",
    "\n",
    "batch_size = 128\n",
    "epochs=14\n",
    "dropout_prob = 0.6\n",
    "training_accuracy = []\n",
    "training_loss = []\n",
    "testing_accuracy = []\n",
    "s.run(tf.global_variables_initializer())\n",
    "for epoch in range(epochs):    \n",
    "    arr = np.arange(X_train.shape[0])\n",
    "    np.random.shuffle(arr)\n",
    "    for index in range(0,X_train.shape[0],batch_size):\n",
    "        s.run(optimizer, {input_X: X_train[arr[index:index+batch_size]],\n",
    "                          input_y: y_train[arr[index:index+batch_size]],\n",
    "                        keep_prob:dropout_prob})\n",
    "    training_accuracy.append(s.run(accuracy, feed_dict= {input_X:X_train, \n",
    "                                                         input_y: y_train,keep_prob:1}))\n",
    "    training_loss.append(s.run(loss, {input_X: X_train, \n",
    "                                      input_y: y_train,keep_prob:1}))\n",
    "    \n",
    "    ## Evaluation of model\n",
    "    testing_accuracy.append(accuracy_score(y_test.argmax(1), \n",
    "                            s.run(predicted_y, {input_X: X_test,keep_prob:1}).argmax(1)))\n",
    "    print(\"Epoch:{0}, Train loss: {1:.2f} Train acc: {2:.3f}, Test acc:{3:.3f}\".format(epoch,\n",
    "                                                                    training_loss[epoch],\n",
    "                                                                    training_accuracy[epoch],\n",
    "                                                                   testing_accuracy[epoch]))"
   ]
  },
  {
   "cell_type": "code",
   "execution_count": 10,
   "metadata": {},
   "outputs": [
    {
     "data": {
      "image/png": "[encoded data removed]",
      "text/plain": [
       "<Figure size 432x288 with 1 Axes>"
      ]
     },
     "metadata": {
      "needs_background": "light"
     },
     "output_type": "display_data"
    },
    {
     "name": "stdout",
     "output_type": "stream",
     "text": [
      "Train Accuracy: 0.99\n",
      "Test Accuracy:0.98\n"
     ]
    }
   ],
   "source": [
    "# Plotting chart of training and testing accuracy as a function of iterations\n",
    "\n",
    "iterations = list(range(epochs))\n",
    "plt.plot(iterations, training_accuracy, label='Train')\n",
    "plt.plot(iterations, testing_accuracy, label='Test')\n",
    "plt.ylabel('Accuracy')\n",
    "plt.xlabel('iterations')\n",
    "plt.show()\n",
    "print(\"Train Accuracy: {0:.2f}\".format(training_accuracy[-1]))\n",
    "print(\"Test Accuracy:{0:.2f}\".format(testing_accuracy[-1]))"
   ]
  },
  {
   "cell_type": "markdown",
   "metadata": {},
   "source": [
    "#### References:\n",
    "\n",
    "Aggarwal, C. C. (2018). Neural Networks and Deep Learning: A Textbook (1st ed. 2018 ed.). Springer. \n",
    "\n",
    "Dabbura, I. (2019, September 3). Coding Neural Network — Forward Propagation and Backpropagtion. Retrieved from https://towardsdatascience.com/coding-neural-network-forward-propagation-and-backpropagtion-ccf8cf369f76 \n",
    "\n",
    "Nagyfi, R. (2018, December 3). The differences between Artificial and Biological Neural Networks. Retrieved from https://towardsdatascience.com/the-differences-between-artificial-and-biological-neural-networks-a8b46db828b7 \n",
    "\n",
    "Rungta, K. (2020, September 21). Back Propagation Neural Network: Explained With Simple Example. Retrieved from https://www.guru99.com/backpropogation-neural-network.html \n",
    "\n",
    "Wylie, C. O. (2018, April 5). Choosing the right activation function in a neural network. Retrieved from https://opendatascience.com/choosing-the-right-activation-function-in-a-neural-network/ "
   ]
  }
 ],
 "metadata": {
  "kernelspec": {
   "display_name": "Python 3",
   "language": "python",
   "name": "python3"
  },
  "language_info": {
   "codemirror_mode": {
    "name": "ipython",
    "version": 3
   },
   "file_extension": ".py",
   "mimetype": "text/x-python",
   "name": "python",
   "nbconvert_exporter": "python",
   "pygments_lexer": "ipython3",
   "version": "3.7.6"
  }
 },
 "nbformat": 4,
 "nbformat_minor": 4
}
